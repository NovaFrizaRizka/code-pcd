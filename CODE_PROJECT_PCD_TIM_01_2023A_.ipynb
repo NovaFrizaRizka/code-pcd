{
  "cells": [
    {
      "cell_type": "markdown",
      "metadata": {
        "id": "Nv4Dt64vt8GG"
      },
      "source": [
        "#Eksplorasi Data"
      ]
    },
    {
      "cell_type": "code",
      "execution_count": null,
      "metadata": {
        "id": "yyxxibBcs8zc"
      },
      "outputs": [],
      "source": [
        "import cv2\n",
        "import os\n",
        "\n",
        "video_path = '0X156A170A2372A74D.avi'\n",
        "output_folder = 'frames74D'\n",
        "os.makedirs(output_folder, exist_ok=True)\n",
        "\n",
        "cap = cv2.VideoCapture(video_path)\n",
        "\n",
        "total_frames = int(cap.get(cv2.CAP_PROP_FRAME_COUNT))\n",
        "fps = cap.get(cv2.CAP_PROP_FPS)\n",
        "width = int(cap.get(cv2.CAP_PROP_FRAME_WIDTH))\n",
        "height = int(cap.get(cv2.CAP_PROP_FRAME_HEIGHT))\n",
        "duration = total_frames / fps if fps > 0 else 0\n",
        "\n",
        "print(f\"Path video     : {video_path}\")\n",
        "print(f\"Resolusi       : {width} x {height}\")\n",
        "print(f\"FPS            : {fps}\")\n",
        "print(f\"Jumlah frame   : {total_frames}\")\n",
        "print(f\"Durasi (detik) : {duration:.2f} detik\")"
      ]
    },
    {
      "cell_type": "markdown",
      "metadata": {
        "id": "rn26vQ8-4sA7"
      },
      "source": [
        "#Ekstraksi frame dari video"
      ]
    },
    {
      "cell_type": "code",
      "execution_count": null,
      "metadata": {
        "id": "eMNmGkSv3XWi"
      },
      "outputs": [],
      "source": [
        "import cv2\n",
        "import os\n",
        "\n",
        "video_path = '0X156A170A2372A74D.avi'\n",
        "\n",
        "output_folder = 'frames74D'\n",
        "os.makedirs(output_folder, exist_ok=True)\n",
        "\n",
        "cap = cv2.VideoCapture(video_path)\n",
        "\n",
        "frame_count = 0\n",
        "frames = []\n",
        "\n",
        "while cap.isOpened():\n",
        "    ret, frame = cap.read()\n",
        "    if not ret:\n",
        "        break\n",
        "    frames.append(frame)\n",
        "\n",
        "    frame_filename = os.path.join(output_folder, f\"frame_{frame_count:04d}.jpg\")\n",
        "    cv2.imwrite(frame_filename, frame)\n",
        "    frame_count += 1\n",
        "\n",
        "cap.release()\n",
        "print(f\"Total frame berhasil diambil: {len(frames)}\")"
      ]
    },
    {
      "cell_type": "code",
      "execution_count": null,
      "metadata": {
        "id": "iVK-pQO127dp"
      },
      "outputs": [],
      "source": [
        "import matplotlib.pyplot as plt\n",
        "import cv2\n",
        "import math\n",
        "\n",
        "total_frames = len(frames)\n",
        "\n",
        "cols = math.ceil(math.sqrt(total_frames))\n",
        "rows = math.ceil(total_frames / cols)\n",
        "\n",
        "plt.figure(figsize=(cols * 2, rows * 2))\n",
        "\n",
        "for i in range(total_frames):\n",
        "    plt.subplot(rows, cols, i + 1)\n",
        "    plt.imshow(cv2.cvtColor(frames[i], cv2.COLOR_BGR2RGB))\n",
        "    plt.title(f'{i}', fontsize=6)\n",
        "    plt.axis('off')\n",
        "\n",
        "plt.tight_layout()\n",
        "plt.show()"
      ]
    },
    {
      "cell_type": "markdown",
      "metadata": {
        "id": "nIzf9MG4dXzU"
      },
      "source": [
        "#Pre-processing"
      ]
    },
    {
      "cell_type": "code",
      "source": [
        "import cv2\n",
        "import os\n",
        "import numpy as np\n",
        "import matplotlib.pyplot as plt\n",
        "\n",
        "input_folder = 'frames74D'\n",
        "output_folder = 'processed74D_frames'\n",
        "os.makedirs(output_folder, exist_ok=True)\n",
        "\n",
        "sharpening_kernel = np.array([[0, -1, 0],\n",
        "                              [-1, 5, -1],\n",
        "                              [0, -1, 0]])\n",
        "\n",
        "clahe = cv2.createCLAHE(clipLimit=3.0, tileGridSize=(8, 8))\n",
        "\n",
        "example_file = None\n",
        "\n",
        "for filename in sorted(os.listdir(input_folder)):\n",
        "    if filename.lower().endswith(('.png', '.jpg', '.jpeg', '.bmp', '.tif', '.tiff')):\n",
        "        path = os.path.join(input_folder, filename)\n",
        "        image = cv2.imread(path, cv2.IMREAD_GRAYSCALE)\n",
        "        filtered = cv2.medianBlur(image, 5)\n",
        "        enhanced = clahe.apply(filtered)\n",
        "        blurred = cv2.GaussianBlur(enhanced, (3, 3), 0)\n",
        "        sharpened = cv2.filter2D(blurred, -1, sharpening_kernel)\n",
        "        adaptive_thresh = cv2.adaptiveThreshold(\n",
        "            sharpened, 255,\n",
        "            cv2.ADAPTIVE_THRESH_GAUSSIAN_C,\n",
        "            cv2.THRESH_BINARY,\n",
        "            11, -2\n",
        "        )\n",
        "        kernel = np.ones((3, 3), np.uint8)\n",
        "        morph = cv2.morphologyEx(adaptive_thresh, cv2.MORPH_OPEN, kernel, iterations=1)\n",
        "        morph = cv2.dilate(morph, kernel, iterations=1)\n",
        "        contours, _ = cv2.findContours(morph, cv2.RETR_EXTERNAL, cv2.CHAIN_APPROX_SIMPLE)\n",
        "        mask = np.zeros_like(morph)\n",
        "\n",
        "        for cnt in contours:\n",
        "            area = cv2.contourArea(cnt)\n",
        "            if area > 1000:\n",
        "                cv2.drawContours(mask, [cnt], -1, 255, thickness=cv2.FILLED)\n",
        "        resized = cv2.resize(mask, (256, 256), interpolation=cv2.INTER_AREA)\n",
        "        save_path = os.path.join(output_folder, filename)\n",
        "        cv2.imwrite(save_path, resized)\n",
        "        if example_file is None:\n",
        "            example_file = (image, filtered, enhanced, sharpened, adaptive_thresh, morph, mask, resized)\n",
        "\n",
        "if example_file:\n",
        "    titles = ['Original', 'Median Filter', 'CLAHE', 'Sharpened', 'Threshold', 'Morphology', 'Masking Final', 'Resized']\n",
        "    images = list(example_file)\n",
        "\n",
        "    plt.figure(figsize=(28, 6))\n",
        "    for i in range(len(images)):\n",
        "        plt.subplot(1, len(images), i + 1)\n",
        "        plt.imshow(images[i], cmap='gray')\n",
        "        plt.title(titles[i])\n",
        "        plt.axis('off')\n",
        "    plt.tight_layout()\n",
        "    plt.show()\n",
        "else:\n",
        "    print(\"Tidak ditemukan gambar di folder input.\")\n"
      ],
      "metadata": {
        "id": "PlCahkmdP83O"
      },
      "execution_count": null,
      "outputs": []
    },
    {
      "cell_type": "markdown",
      "metadata": {
        "id": "UoTZlfxiiLFw"
      },
      "source": [
        "#Thresholding dan Deteksi Gerakan dengan Frame Differencing"
      ]
    },
    {
      "cell_type": "code",
      "execution_count": null,
      "metadata": {
        "id": "I1L4mFTqixIr",
        "collapsed": true
      },
      "outputs": [],
      "source": [
        "import cv2\n",
        "import os\n",
        "import numpy as np\n",
        "import matplotlib.pyplot as plt\n",
        "\n",
        "processed_folder = 'processed74D_frames'\n",
        "output_motion_folder = 'diff_output74D'\n",
        "os.makedirs(output_motion_folder, exist_ok=True)\n",
        "\n",
        "frame_files = sorted([f for f in os.listdir(processed_folder) if f.lower().endswith(('.png', '.jpg', '.jpeg'))])\n",
        "\n",
        "if len(frame_files) < 2:\n",
        "    print(\"Butuh minimal dua frame untuk deteksi gerakan.\")\n",
        "else:\n",
        "    for i in range(len(frame_files) - 1):\n",
        "        path1 = os.path.join(processed_folder, frame_files[i])\n",
        "        path2 = os.path.join(processed_folder, frame_files[i + 1])\n",
        "\n",
        "        frame1 = cv2.imread(path1, cv2.IMREAD_GRAYSCALE)\n",
        "        frame2 = cv2.imread(path2, cv2.IMREAD_GRAYSCALE)\n",
        "\n",
        "        diff = cv2.absdiff(frame1, frame2)\n",
        "\n",
        "        _, thresh = cv2.threshold(diff, 30, 255, cv2.THRESH_BINARY)\n",
        "\n",
        "        output_filename = f\"motion_{i:04d}.png\"\n",
        "        output_path = os.path.join(output_motion_folder, output_filename)\n",
        "        cv2.imwrite(output_path, thresh)\n",
        "\n",
        "        plt.figure(figsize=(12, 4))\n",
        "        plt.subplot(1, 3, 1)\n",
        "        plt.imshow(frame1, cmap='gray')\n",
        "        plt.title(f'Frame {i}')\n",
        "        plt.axis('off')\n",
        "\n",
        "        plt.subplot(1, 3, 2)\n",
        "        plt.imshow(frame2, cmap='gray')\n",
        "        plt.title(f'Frame {i+1}')\n",
        "        plt.axis('off')\n",
        "\n",
        "        plt.subplot(1, 3, 3)\n",
        "        plt.imshow(thresh, cmap='gray')\n",
        "        plt.title('Motion (Thresholded)')\n",
        "        plt.axis('off')\n",
        "\n",
        "        plt.tight_layout()\n",
        "        plt.show()\n",
        "\n",
        "    print(f\"Hasil deteksi gerakan disimpan di folder: {output_motion_folder}\")\n"
      ]
    },
    {
      "cell_type": "markdown",
      "metadata": {
        "id": "8c7zYuIJtzL2"
      },
      "source": [
        "#Perbaikan Hasil Segmentasi dan Operasi Morfologi"
      ]
    },
    {
      "cell_type": "code",
      "execution_count": null,
      "metadata": {
        "id": "0D3U_nQD5viM",
        "collapsed": true
      },
      "outputs": [],
      "source": [
        "import cv2\n",
        "import os\n",
        "import numpy as np\n",
        "import matplotlib.pyplot as plt\n",
        "\n",
        "processed_folder = 'processed74D_frames'\n",
        "output_morph_folder = 'morph_output74D'\n",
        "os.makedirs(output_morph_folder, exist_ok=True)\n",
        "\n",
        "frame_files = sorted([f for f in os.listdir(processed_folder) if f.lower().endswith(('.png', '.jpg', '.jpeg'))])\n",
        "\n",
        "kernel = cv2.getStructuringElement(cv2.MORPH_ELLIPSE, (5, 5))\n",
        "\n",
        "for filename in frame_files:\n",
        "    path = os.path.join(processed_folder, filename)\n",
        "\n",
        "    img = cv2.imread(path, cv2.IMREAD_GRAYSCALE)\n",
        "\n",
        "    _, thresh_otsu = cv2.threshold(img, 0, 255, cv2.THRESH_BINARY + cv2.THRESH_OTSU)\n",
        "\n",
        "    opened = cv2.morphologyEx(thresh_otsu, cv2.MORPH_OPEN, kernel)\n",
        "\n",
        "    closed = cv2.morphologyEx(opened, cv2.MORPH_CLOSE, kernel)\n",
        "\n",
        "    output_path = os.path.join(output_morph_folder, f\"morph_{filename}\")\n",
        "    cv2.imwrite(output_path, closed)\n",
        "\n",
        "    plt.figure(figsize=(16, 4))\n",
        "    plt.subplot(1, 4, 1)\n",
        "    plt.imshow(img, cmap='gray')\n",
        "    plt.title('Original')\n",
        "    plt.axis('off')\n",
        "\n",
        "    plt.subplot(1, 4, 2)\n",
        "    plt.imshow(thresh_otsu, cmap='gray')\n",
        "    plt.title('Otsu Thresholding')\n",
        "    plt.axis('off')\n",
        "\n",
        "    plt.subplot(1, 4, 3)\n",
        "    plt.imshow(opened, cmap='gray')\n",
        "    plt.title('After Opening')\n",
        "    plt.axis('off')\n",
        "\n",
        "    plt.subplot(1, 4, 4)\n",
        "    plt.imshow(closed, cmap='gray')\n",
        "    plt.title('After Closing')\n",
        "    plt.axis('off')\n",
        "\n",
        "    plt.tight_layout()\n",
        "    plt.show()\n",
        "\n",
        "print(f\"Hasil segmentasi dan morfologi disimpan di folder: {output_morph_folder}\")"
      ]
    },
    {
      "cell_type": "markdown",
      "metadata": {
        "id": "qom9tQMFnpvH"
      },
      "source": [
        "#Ekstraksi dan Seleksi Kontur"
      ]
    },
    {
      "cell_type": "code",
      "source": [
        "import cv2\n",
        "import os\n",
        "import matplotlib.pyplot as plt\n",
        "\n",
        "input_folder = 'morph_output74D'\n",
        "output_folder = 'kontur_output'\n",
        "os.makedirs(output_folder, exist_ok=True)\n",
        "\n",
        "image_files = [f for f in os.listdir(input_folder) if f.endswith(('.png', '.jpg', '.jpeg'))]\n",
        "\n",
        "for image_file in image_files:\n",
        "    image_path = os.path.join(input_folder, image_file)\n",
        "    image = cv2.imread(image_path, cv2.IMREAD_GRAYSCALE)\n",
        "\n",
        "    contours, _ = cv2.findContours(image, cv2.RETR_CCOMP, cv2.CHAIN_APPROX_SIMPLE)\n",
        "\n",
        "    contour_image = cv2.cvtColor(image, cv2.COLOR_GRAY2BGR)\n",
        "\n",
        "    cv2.drawContours(contour_image, contours, -1, (0, 255, 0), 2)\n",
        "\n",
        "    output_path = os.path.join(output_folder, image_file)\n",
        "    cv2.imwrite(output_path, contour_image)\n",
        "\n",
        "    plt.figure(figsize=(5, 5))\n",
        "    plt.title(f'Kontur: {image_file}')\n",
        "    plt.imshow(cv2.cvtColor(contour_image, cv2.COLOR_BGR2RGB))\n",
        "    plt.axis('off')\n",
        "    plt.show()\n"
      ],
      "metadata": {
        "collapsed": true,
        "id": "hBSpldjFEIOh"
      },
      "execution_count": null,
      "outputs": []
    },
    {
      "cell_type": "code",
      "source": [
        "import cv2\n",
        "import os\n",
        "import matplotlib.pyplot as plt\n",
        "\n",
        "# Path folder\n",
        "kontur_folder = 'kontur_output'\n",
        "original_folder = 'processed74D_frames'\n",
        "output_folder = 'mask_output'\n",
        "os.makedirs(output_folder, exist_ok=True)\n",
        "\n",
        "image_files = [f for f in os.listdir(kontur_folder) if f.endswith(('.png', '.jpg', '.jpeg'))]\n",
        "\n",
        "for image_file in image_files:\n",
        "    base_filename = image_file.replace('morph_', '').replace('kontur_', '')\n",
        "    kontur_path = os.path.join(kontur_folder, image_file)\n",
        "    original_path = os.path.join(original_folder, base_filename)\n",
        "\n",
        "    kontur_img = cv2.imread(kontur_path, cv2.IMREAD_GRAYSCALE)\n",
        "    original_img = cv2.imread(original_path)\n",
        "\n",
        "    if kontur_img is None:\n",
        "        print(f\"Gagal membaca file kontur: {kontur_path}\")\n",
        "        continue\n",
        "    if original_img is None:\n",
        "        print(f\"File tidak ditemukan: {original_path}\")\n",
        "        continue\n",
        "\n",
        "    contours, _ = cv2.findContours(kontur_img, cv2.RETR_CCOMP, cv2.CHAIN_APPROX_SIMPLE)\n",
        "    image_with_contours = original_img.copy()\n",
        "    cv2.drawContours(image_with_contours, contours, -1, (0, 255, 0), 2)\n",
        "\n",
        "    output_path = os.path.join(output_folder, base_filename)\n",
        "    cv2.imwrite(output_path, image_with_contours)\n",
        "\n",
        "    plt.figure(figsize=(6, 6))\n",
        "    plt.imshow(cv2.cvtColor(image_with_contours, cv2.COLOR_BGR2RGB))\n",
        "    plt.title(f'Kontur: {base_filename}')\n",
        "    plt.axis('off')\n",
        "    plt.show()\n",
        "\n",
        "print(f\"Hasil kontur dengan latar asli disimpan di folder: {output_folder}\")\n"
      ],
      "metadata": {
        "id": "e4xP9TyzGKWr"
      },
      "execution_count": null,
      "outputs": []
    },
    {
      "cell_type": "code",
      "source": [
        "import cv2\n",
        "import os\n",
        "import numpy as np\n",
        "import matplotlib.pyplot as plt\n",
        "\n",
        "kontur_folder = 'kontur_output'\n",
        "original_folder = 'processed74D_frames'\n",
        "mask_output_folder = 'mask_output2'\n",
        "os.makedirs(mask_output_folder, exist_ok=True)\n",
        "\n",
        "image_files = [f for f in os.listdir(kontur_folder) if f.endswith(('.png', '.jpg', '.jpeg'))]\n",
        "\n",
        "for image_file in image_files:\n",
        "    base_filename = image_file.replace('morph_', '').replace('kontur_', '')\n",
        "\n",
        "    kontur_path = os.path.join(kontur_folder, image_file)\n",
        "    original_path = os.path.join(original_folder, base_filename)\n",
        "\n",
        "    kontur_img = cv2.imread(kontur_path, cv2.IMREAD_GRAYSCALE)\n",
        "    original_img = cv2.imread(original_path)\n",
        "\n",
        "    if original_img is None or kontur_img is None:\n",
        "        print(f\"File tidak ditemukan: {image_file}\")\n",
        "        continue\n",
        "\n",
        "    contours, _ = cv2.findContours(kontur_img, cv2.RETR_CCOMP, cv2.CHAIN_APPROX_SIMPLE)\n",
        "\n",
        "    masked_img = original_img.copy()\n",
        "\n",
        "    cv2.drawContours(masked_img, contours, -1, (0, 255, 0), thickness=cv2.FILLED)\n",
        "\n",
        "    overlay = cv2.addWeighted(original_img, 0.6, masked_img, 0.4, 0)\n",
        "\n",
        "    output_path = os.path.join(mask_output_folder, base_filename)\n",
        "    cv2.imwrite(output_path, overlay)\n",
        "\n",
        "    plt.figure(figsize=(6, 6))\n",
        "    plt.imshow(cv2.cvtColor(overlay, cv2.COLOR_BGR2RGB))\n",
        "    plt.title(f'Masked Kontur: {base_filename}')\n",
        "    plt.axis('off')\n",
        "    plt.show()\n",
        "\n",
        "print(f\"Hasil mask warna disimpan di folder: {mask_output_folder}\")"
      ],
      "metadata": {
        "id": "w-4kluvLH-FD"
      },
      "execution_count": null,
      "outputs": []
    },
    {
      "cell_type": "markdown",
      "metadata": {
        "id": "hhC--FAUCCvN"
      },
      "source": [
        "#Menjadikan hasil sebagai video lagi"
      ]
    },
    {
      "cell_type": "code",
      "execution_count": null,
      "metadata": {
        "id": "vMhDL0YCTv5N"
      },
      "outputs": [],
      "source": [
        "import cv2\n",
        "import os\n",
        "\n",
        "input_folder = 'mask_output2'\n",
        "output_video = 'hasil_segmentasi22.avi'\n",
        "\n",
        "frame_files = sorted([f for f in os.listdir(input_folder) if f.endswith('.jpg')])\n",
        "\n",
        "first_frame = cv2.imread(os.path.join(input_folder, frame_files[0]))\n",
        "height, width, _ = first_frame.shape\n",
        "\n",
        "out = cv2.VideoWriter(output_video, cv2.VideoWriter_fourcc(*'XVID'), 50.0, (width, height))\n",
        "\n",
        "for frame_name in frame_files:\n",
        "    frame_path = os.path.join(input_folder, frame_name)\n",
        "    frame = cv2.imread(frame_path)\n",
        "\n",
        "    if frame is None:\n",
        "        print(f\"Gagal baca frame: {frame_name}\")\n",
        "        continue\n",
        "\n",
        "    out.write(frame)\n",
        "\n",
        "out.release()\n",
        "print(f\" Video berhasil dibuat dan disimpan sebagai: {output_video}\")\n"
      ]
    },
    {
      "cell_type": "code",
      "source": [],
      "metadata": {
        "id": "sXZWOK_BmfxS"
      },
      "execution_count": null,
      "outputs": []
    }
  ],
  "metadata": {
    "colab": {
      "provenance": []
    },
    "kernelspec": {
      "display_name": "Python 3",
      "name": "python3"
    },
    "language_info": {
      "name": "python"
    }
  },
  "nbformat": 4,
  "nbformat_minor": 0
}